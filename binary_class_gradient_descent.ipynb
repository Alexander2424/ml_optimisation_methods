{
 "cells": [
  {
   "cell_type": "markdown",
   "id": "eaba752b",
   "metadata": {},
   "source": [
    "### Neural Computation: methods to solve binary classification\n",
    "\n",
    "Objective: find optimal parameters for binary classification problem given data set with 4 features and 8 data points.\n",
    "\n",
    "Find optimal parameters using the following methods:\n",
    "* implement the `gradient descent` method\n",
    "* implement the `stochastic gradient descent` method\n",
    "* implement the `momentum` method\n",
    "* implement the `adaptive gradient descent` method\n",
    "* implement the `perceptron` method"
   ]
  },
  {
   "cell_type": "code",
   "execution_count": 7,
   "id": "60a33a69",
   "metadata": {},
   "outputs": [],
   "source": [
    "import numpy as np\n",
    "import matplotlib.pyplot as plt\n",
    "\n",
    "np.set_printoptions(precision=3)"
   ]
  },
  {
   "cell_type": "markdown",
   "id": "4b026fde",
   "metadata": {},
   "source": [
    "### Create Data Set\n",
    "$\\mathbf{X}$ is an 8x4 matrix with 4 features and 8 datapoints (examples).\\\n",
    "$\\mathbf{y}$ contains the correct output (labels) to use for learning parameters."
   ]
  },
  {
   "cell_type": "code",
   "execution_count": 8,
   "id": "499487ea",
   "metadata": {},
   "outputs": [],
   "source": [
    "# Creating data set D\n",
    "X = np.array([[-0.5, 0.25, -0.8, -1],\n",
    "               [-1, -0.1, -0.1, -1],\n",
    "               [0.5, 0, 0.25, 0.1],\n",
    "               [-0.2, -0.3, 0.2, 0],\n",
    "               [-0.8, 0, -0.8, -1],\n",
    "               [-0.15, -0.5, 0.05, -0.25],\n",
    "               [-1, 0, -1, -1],\n",
    "               [0, -0.25, 0.25, 0.1]])\n",
    "\n",
    "y = np.array([1, 1, -1, -1, 1, -1, 1, -1])"
   ]
  },
  {
   "cell_type": "markdown",
   "id": "363993e9",
   "metadata": {},
   "source": [
    "### Problem Definition\n",
    "Consider a linear model for classification $\\mathbf{x} \\rightarrow \\mathbf{w}^\\top \\mathbf{x}$, where $\\mathbf{w} = (w_1,w_2,w_3,w_4)^\\top \\in \\mathbb{R}^4$. Minimize the objective function (for simplicity the bias is not considered in the linear model):\n",
    "$$C(\\mathbf{w}) = \\frac{1}{n}\\sum^n_{i=1}C_{i}(\\mathbf{w}),$$\n",
    "where\n",
    "$$\n",
    "C_i(\\mathbf{w}) = \\left\\{\n",
    "    \\begin{array}{ll}\n",
    "        0,\\mbox{ if } y^{(i)} \\mathbf{w}^\\top \\mathbf{x}^{(i)} \\ge 1\\\\\n",
    "        \\frac{1}{2}(1 - {y}^{(i)} \\mathbf{w}^\\top \\mathbf{x}^{(i)})^2, \\mbox{ otherwise.}\n",
    "    \\end{array}\n",
    "\\right.\n",
    "$$\n",
    "From this the gradient can be derived:\n",
    "$$\n",
    "\\nabla C_i(\\mathbf{w}) = \\left\\{\n",
    "    \\begin{array}{ll}\n",
    "        0,\\mbox{ if } y^{(i)} \\mathbf{w}^\\top \\mathbf{x}^{(i)} \\ge 1\\\\\n",
    "        {y}^{(i)}({y}^{(i)} \\mathbf{w}^\\top \\mathbf{x}^{(i)} -1)\\mathbf{x}^{(i)}, \\mbox{ otherwise.}\n",
    "    \\end{array}\n",
    "\\right.\n",
    "$$\n",
    "and\n",
    "$$\\nabla C(\\mathbf{w}) = \\frac{1}{n}\\sum^n_{i=1}\\nabla C_{i}(\\mathbf{w})$$"
   ]
  },
  {
   "cell_type": "code",
   "execution_count": 9,
   "id": "7b107729",
   "metadata": {},
   "outputs": [],
   "source": [
    "def cost(w, X, y):\n",
    "    N,D = X.shape\n",
    "    err = 0\n",
    "    for i in range(N):\n",
    "        m = np.dot(X[i,:],w)*y[i]\n",
    "        if m < 1:\n",
    "            err += 0.5*(1 - m)**2\n",
    "        \n",
    "    return err/N"
   ]
  },
  {
   "cell_type": "code",
   "execution_count": 10,
   "id": "23d05460",
   "metadata": {},
   "outputs": [],
   "source": [
    "def grad(w, X, y):\n",
    "    N,D = X.shape\n",
    "    grad = np.zeros(D)\n",
    "    for i in range(N):\n",
    "        m = np.dot(y[i],np.dot(X[i,:],w))\n",
    "        if m >= 1:\n",
    "            grad = grad\n",
    "        else:\n",
    "            grad = grad + np.dot(np.dot((m - 1),y[i]),X[i,:])\n",
    "    grad = grad/8\n",
    "    \n",
    "    return grad"
   ]
  },
  {
   "cell_type": "markdown",
   "id": "7a19cbb0",
   "metadata": {},
   "source": [
    "### Solve using Gradient Descent\n",
    "Gradient Descent iteratively updates the model by moving along the negative direction\n",
    "$$\\mathbf{w}^{(t+1)} \\leftarrow \\mathbf{w}^{(t)} - \\eta\\nabla C(\\mathbf{w}^{(t)}),$$ \n",
    "where $\\eta$ is a learning rate and $\\nabla C(w^{(t)})$ is the gradient evaluated at current parameter value $\\mathbf{w}^{(t)}$.\n",
    "\\\n",
    "\\\n",
    "Let $\\mathbf{w}^{(0)} = (0,0,0,0)^\\top$ and step size $\\eta_t = \\eta = 0.5$. Return $\\mathbf{w}^{(25)}$."
   ]
  },
  {
   "cell_type": "code",
   "execution_count": 11,
   "id": "6deeddaa",
   "metadata": {},
   "outputs": [],
   "source": [
    "def gradient_descent(X, y):\n",
    "    \n",
    "    w = np.zeros([4])\n",
    "    eta = 0.5\n",
    "    \n",
    "    for k in range(25):\n",
    "        w = w - 0.5 * grad(w, X, y)\n",
    "\n",
    "    return w"
   ]
  },
  {
   "cell_type": "code",
   "execution_count": 12,
   "id": "945a28b3",
   "metadata": {},
   "outputs": [
    {
     "name": "stdout",
     "output_type": "stream",
     "text": [
      "With Gradient Descent, w(25): [-0.527  1.22  -1.047 -0.445]\n"
     ]
    }
   ],
   "source": [
    "gd = gradient_descent(X,y)\n",
    "print(\"With Gradient Descent, w(25):\", gd)"
   ]
  },
  {
   "cell_type": "markdown",
   "id": "f1d5b5a7",
   "metadata": {},
   "source": [
    "### Solve using Stochastic Gradient Descent\n",
    "Suppose at the t-th iteration, the index sampled is $i_t$. Following from the equation for Gradient Descent above, the update for Stochastic Gradient Descent (SGD) i.e., taking a single example is the following:\n",
    "\\\n",
    "\\\n",
    "$$\n",
    "\\nabla \\mathbf{w}^{(t+1)} \\leftarrow \\mathbf{w}^{(t)} - \\eta\\nabla C(\\mathbf{w}^{(t)}) = \\left\\{\n",
    "    \\begin{array}{ll}\n",
    "        \\mathbf{w}^{(t)},\\mbox{ if } y^{(i)} \\mathbf{w}^\\top \\mathbf{x}^{(i)} \\ge 1\\\\\n",
    "        \\mathbf{w}^{(t)} - \\eta_t{y}^{(i)}({y}^{(i)} \\mathbf{w}^\\top \\mathbf{x}^{(i)} -1)\\mathbf{x}^{(i)}, \\mbox{ otherwise.}\n",
    "    \\end{array}\n",
    "\\right.\n",
    "$$\n",
    "\\\n",
    "Let $\\mathbf{w}^{(0)} = (0,0,0,0)^\\top$ and $\\eta_t = \\eta = 0.1$. Let $i_t =$ (t mod 8). Return $\\mathbf{w}^{(80)}$."
   ]
  },
  {
   "cell_type": "code",
   "execution_count": 27,
   "id": "60ca5e92",
   "metadata": {},
   "outputs": [],
   "source": [
    "def stochastic_gd(X, y):\n",
    "\n",
    "    w = np.zeros([4])\n",
    "    \n",
    "    for k in range(80):\n",
    "        i = k % 8\n",
    "        m = np.dot(y[i],np.dot(X[i,:],w))\n",
    "        if m >= 1:\n",
    "            w = w\n",
    "        else:\n",
    "            w = w - 0.1 * np.dot(np.dot((m - 1),y[i]),X[i,:])\n",
    "\n",
    "    return w"
   ]
  },
  {
   "cell_type": "code",
   "execution_count": 28,
   "id": "adb2a453",
   "metadata": {},
   "outputs": [
    {
     "name": "stdout",
     "output_type": "stream",
     "text": [
      "With Stochastic Gradient Descent (SGD) w(80): [-0.469  0.89  -0.799 -0.449]\n"
     ]
    }
   ],
   "source": [
    "sgd = stochastic_gd(X, y)\n",
    "print(\"With Stochastic Gradient Descent (SGD) w(80):\", sgd)"
   ]
  },
  {
   "cell_type": "markdown",
   "id": "9e8e866a",
   "metadata": {},
   "source": [
    "### Solve using momentum\n",
    "Momentum introduces a variable __velocity__ to store the historical information of the gradients. At each iteration, it updates __velocity__ as a factor of the current __velocity__ minus the __learning rate__ times the __current gradient__:\n",
    "\\\n",
    "\\\n",
    "$$\\mathbf{v}^{(t+1)} = \\alpha\\mathbf{v}^{(t)}-\\eta\\nabla C(\\mathbf{w}^{(t)}),$$ \\\n",
    "where $\\eta$ is a learning rate, $\\alpha\\in(0,1)$ is a parameter and $\\nabla C(w^{(t)}$ is the gradient evaluated at current parameter value $\\mathbf{w}^{(t)}$.\n",
    "Then,the next iterate updates as \\\n",
    "\\\n",
    "$$\\mathbf{w}^{(t+1)}=\\mathbf{w}^{(t)}+\\mathbf{v}^{(t+1)}.$$\n",
    "\\\n",
    "Let $\\mathbf{w}^{(0)} = (0,0,0,0)^\\top$, $\\eta_t = \\eta = 0.5$ and $\\alpha = 0.5$. Return $\\mathbf{w}^{(25)}$."
   ]
  },
  {
   "cell_type": "code",
   "execution_count": 29,
   "id": "0a1e6bee",
   "metadata": {},
   "outputs": [],
   "source": [
    "def momentum(X, y):\n",
    "    \n",
    "    w = np.zeros([4])\n",
    "    v = np.zeros([4])\n",
    "    \n",
    "    for k in range(25):\n",
    "        v = 0.5*v - 0.5 * grad(w, X, y)\n",
    "        w = w + v\n",
    "\n",
    "    return w"
   ]
  },
  {
   "cell_type": "code",
   "execution_count": 30,
   "id": "1dc13918",
   "metadata": {},
   "outputs": [
    {
     "name": "stdout",
     "output_type": "stream",
     "text": [
      "With Momentum w(25): [-0.598  1.829 -1.557 -0.502]\n"
     ]
    }
   ],
   "source": [
    "mv = momentum(X, y)\n",
    "print(\"With Momentum w(25):\", mv)"
   ]
  },
  {
   "cell_type": "markdown",
   "id": "58440955",
   "metadata": {},
   "source": [
    "### Solve using Adaptive Gradient Descent\n",
    "Stochastic gradient descent uses the same learning rates for all the features. This can be problematic if there are some sparse and predictive features. The underlying reason is that there are few examples with non-zero values for the sparse features, and it is often the case that SGD will choose an example with a zero for the sparse feature. Then it would not update the corresponding coordinate in this case. This motivates the need to slow down the update of some coordinates if there is already a frequent update on that coordinate, and accelerate the update if there are few updates on that coordinate.\n",
    "\n",
    "The key idea of __Adagrad__ is to introduce a vector $\\mathbf{r}$ to store the accumulated gradient norm square. Initialise $\\mathbf{r}^{(0)}=0$ and update\n",
    "$$ \n",
    "\\mathbf{r}^{(t+1)}=\\mathbf{r}^{(t)}+\\hat{\\mathbf{g}}^{(t)}\\odot\\hat{\\mathbf{g}}^{(t)},\n",
    "$$\n",
    "\\\n",
    "where $\\hat{\\mathbf{g}}^{(t)}$ can be a stochastic gradient built based on a selected example or a minibatch of examples. The idea is to slow down the update on a coordinate if there are already many updates on that coordinate in the history, and speed up the update on a coordinate if there are few updates in the history. This can be achieved by dividing the parameter $\\eta$ with $\\sqrt{\\mathbf{r}^{(t+1)}}$. That is\n",
    "$$\n",
    "\\mathbf{w}^{(t+1)}\\gets\\mathbf{w}^{(t)}-\\frac{\\eta}{\\delta+\\sqrt{\\mathbf{r}^{(t+1)}}}\\odot \\hat{\\mathbf{g}}^{(t)} \n",
    "$$\n",
    "\\\n",
    "Using __Adagrad__, there are different learning rates on different coordinates. \\\n",
    "\\\n",
    "Let $\\mathbf{w}^{(0)} = (0,0,0,0)^\\top$, $\\eta_t = \\eta = 0.1$ and $\\delta = 10^{-6}$. Let $i_t =$ (t mod 8). Return $\\mathbf{w}^{(80)}$."
   ]
  },
  {
   "cell_type": "code",
   "execution_count": 31,
   "id": "ddf79f5f",
   "metadata": {},
   "outputs": [],
   "source": [
    "def adaptive_gd(X, y):\n",
    "    \n",
    "    w = np.zeros([4])\n",
    "    r = np.zeros([4])\n",
    "    g = np.zeros([4])\n",
    "    delta = 1e-6\n",
    "    \n",
    "    for k in range(80):\n",
    "        i = k % 8\n",
    "        \n",
    "        m = np.dot(y[i],np.dot(X[i,:],w))\n",
    "        if m >= 1:\n",
    "            w = w\n",
    "        else:\n",
    "            alpha = np.dot(X[i,:],w) - y[i]\n",
    "            g = alpha * X[i,:]\n",
    "            r = r + g*g\n",
    "            w = w - (0.1/(delta+np.sqrt(r)))*g\n",
    "    \n",
    "    return w"
   ]
  },
  {
   "cell_type": "code",
   "execution_count": 32,
   "id": "f1acbb59",
   "metadata": {},
   "outputs": [
    {
     "name": "stdout",
     "output_type": "stream",
     "text": [
      "With Adaptive Gradient Descent (AGD) w(80): [-0.478  0.849 -0.722 -0.38 ]\n"
     ]
    }
   ],
   "source": [
    "adagrad = adaptive_gd(X, y)\n",
    "print(\"With Adaptive Gradient Descent (AGD) w(80):\", adagrad)"
   ]
  },
  {
   "cell_type": "markdown",
   "id": "abeae8af",
   "metadata": {},
   "source": [
    "### Perceptron\n",
    "A perceptron takes the form\n",
    "$$\\mathbf{x}\\mapsto \\text{sgn}(\\mathbf{w}^\\top\\mathbf{x}+b),$$\n",
    "where $\\mathbf{w}$ is the weight vector and $b$ is the bias. Here $\\text{sgn}(a)$ returns the sign of $a$.  Then it predicts $\\mathbf{x}$ to be a positive example if $\\mathbf{w}^\\top\\mathbf{x}+b>0$ and negative otherwise. According to the prediction scheme, this model misclassifies an example $(\\mathbf{x},y)$ if $y(\\mathbf{w}^\\top\\mathbf{x}+b)\\leq0$.\n",
    "\n",
    "### Perceptron Algorithm\n",
    "The perceptron algorithm tries to find $\\mathbf{w}$ and $b$. The basic idea is to traverse the dataset and update the model if it encouters a misclassified example. Suppose $(\\mathbf{x},y)$ is a misclassified example, then it updates the model by\n",
    "$$\n",
    "\\mathbf{w}\\gets \\mathbf{w}+y\\mathbf{x}\\quad b\\gets b+y.\n",
    "$$\n",
    "It is then clear that\n",
    "$$\n",
    "y(b+y+(\\mathbf{w}+y\\mathbf{x})^\\top\\mathbf{x})=yb+y\\mathbf{w}^\\top\\mathbf{x}+y^2+y^2\\mathbf{x}^\\top\\mathbf{x}>\n",
    "y(b+\\mathbf{w}^\\top\\mathbf{x}).\n",
    "$$\n",
    "That is, after an update the perceptron is more likely to classify correctly the example $(\\mathbf{x},y)$.\\\n",
    "\\\n",
    "Let $\\mathbf{w}^{(0)} = (0,0,0,0)^\\top$ and traverse the data set once in order. Return $\\mathbf{w}^8$."
   ]
  },
  {
   "cell_type": "code",
   "execution_count": 19,
   "id": "860b3394",
   "metadata": {},
   "outputs": [],
   "source": [
    "def perceptron(X, y):\n",
    "    \n",
    "    w = np.zeros([4])\n",
    "\n",
    "    for i in range(8):\n",
    "        m = np.dot(X[i,:],w)*y[i]\n",
    "        if m <= 0:\n",
    "            w += np.dot(y[i],X[i,:])\n",
    "        \n",
    "    return w"
   ]
  },
  {
   "cell_type": "code",
   "execution_count": 20,
   "id": "c079dc85",
   "metadata": {},
   "outputs": [
    {
     "name": "stdout",
     "output_type": "stream",
     "text": [
      "With Perceptron algorithm w: [-0.35  0.75 -0.85 -0.75]\n"
     ]
    }
   ],
   "source": [
    "p = perceptron(X, y)\n",
    "print(\"With Perceptron algorithm w:\", p)"
   ]
  },
  {
   "cell_type": "markdown",
   "id": "eee6a017",
   "metadata": {},
   "source": [
    "### Visualising Results\n",
    "Visualising the results with two charts. The first chart compares the model prediction vs the correct training y value for each method and example in the data. The second chart compares the total cost (loss) when using the parameters returned for each method."
   ]
  },
  {
   "cell_type": "code",
   "execution_count": 103,
   "id": "8e202c25",
   "metadata": {},
   "outputs": [
    {
     "data": {
      "image/png": "[encoded data removed]",
      "text/plain": [
       "<Figure size 640x480 with 1 Axes>"
      ]
     },
     "metadata": {},
     "output_type": "display_data"
    },
    {
     "data": {
      "image/png": "[encoded data removed]",
      "text/plain": [
       "<Figure size 640x480 with 1 Axes>"
      ]
     },
     "metadata": {},
     "output_type": "display_data"
    }
   ],
   "source": [
    "plt.figure()\n",
    "plt.plot(np.dot(X,gd),y,'r.',label='GD')\n",
    "plt.plot(np.dot(X,sgd),y,'b.',label='SGD')\n",
    "plt.plot(np.dot(X,mv),y,'g.',label='Moment.')\n",
    "plt.plot(np.dot(X,adagrad),y,'y.',label='AdaGrad')\n",
    "plt.plot(np.dot(X,p),y,'k.',label='Percep.')\n",
    "plt.xlabel('Model Prediction')\n",
    "plt.ylabel('Correct Value')\n",
    "plt.legend()\n",
    "plt.title(\"Model Prediction vs Correct Value\")\n",
    "plt.show()\n",
    "\n",
    "x = ['GD', 'SGD', 'Momentum', 'AdaGrad', 'Perceptron']\n",
    "costs = [cost(gd,X,y), cost(sgd,X,y), cost(mv,X,y), cost(adagrad,X,y), cost(p,X,y)]\n",
    "x_pos = [i for i, _ in enumerate(x)]\n",
    "plt.bar(x_pos, costs, color='red')\n",
    "plt.xlabel(\"Method\")\n",
    "plt.ylabel(\"Total Cost (Loss)\")\n",
    "plt.title(\"Total Cost for each method\")\n",
    "plt.xticks(x_pos, x)\n",
    "plt.show()\n"
   ]
  },
  {
   "cell_type": "markdown",
   "id": "4b918298",
   "metadata": {},
   "source": [
    "The visualisation shows that if the sign is used to determine a positive or negative classification ($\\text{sgn}(\\mathbf{w}^\\top\\mathbf{x})$), all parameters returned would deliver correct predictions and the total cost for each method when taking the sign function of the prediction would be 0. \\\n",
    "\\\n",
    "Based on the bar chart above, the Momentum method was the most accurate. However, further data  (examples and labels) would be required to generate validation and test sets to determine if the parameters returned by each model generalise well to unseen data."
   ]
  }
 ],
 "metadata": {
  "kernelspec": {
   "display_name": "Python 3 (ipykernel)",
   "language": "python",
   "name": "python3"
  },
  "language_info": {
   "codemirror_mode": {
    "name": "ipython",
    "version": 3
   },
   "file_extension": ".py",
   "mimetype": "text/x-python",
   "name": "python",
   "nbconvert_exporter": "python",
   "pygments_lexer": "ipython3",
   "version": "3.9.6"
  }
 },
 "nbformat": 4,
 "nbformat_minor": 5
}
